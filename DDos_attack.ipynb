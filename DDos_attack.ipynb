{
  "nbformat": 4,
  "nbformat_minor": 0,
  "metadata": {
    "colab": {
      "provenance": [],
      "authorship_tag": "ABX9TyPcLRWW1EjdJrOKeeMUd/Vg",
      "include_colab_link": true
    },
    "kernelspec": {
      "name": "python3",
      "display_name": "Python 3"
    },
    "language_info": {
      "name": "python"
    }
  },
  "cells": [
    {
      "cell_type": "markdown",
      "metadata": {
        "id": "view-in-github",
        "colab_type": "text"
      },
      "source": [
        "<a href=\"https://colab.research.google.com/github/Verifieddanny/-sui-student-management-system-vector/blob/main/DDos_attack.ipynb\" target=\"_parent\"><img src=\"https://colab.research.google.com/assets/colab-badge.svg\" alt=\"Open In Colab\"/></a>"
      ]
    },
    {
      "cell_type": "markdown",
      "source": [
        "## HTTP DoS Detection - Random forest Classifer"
      ],
      "metadata": {
        "id": "dPmYie_adGjG"
      }
    },
    {
      "cell_type": "markdown",
      "source": [
        "1. Load Libraries"
      ],
      "metadata": {
        "id": "sHF-nB0BdRQO"
      }
    },
    {
      "cell_type": "code",
      "source": [
        "import pandas as pd\n",
        "from sklearn.ensemble import RandomForestClassifier\n",
        "from sklearn.model_selection import train_test_split\n",
        "from sklearn.preprocessing import LabelEncoder\n",
        "from sklearn.metrics import classification_report, confusion_matrix\n",
        "import seaborn as sns\n",
        "import matplotlib.pyplot as plt"
      ],
      "metadata": {
        "id": "KzMd1M2vdVyu"
      },
      "execution_count": 23,
      "outputs": []
    },
    {
      "cell_type": "markdown",
      "source": [
        "2. Load Datasets"
      ],
      "metadata": {
        "id": "K3Y3OXladZ8V"
      }
    },
    {
      "cell_type": "code",
      "source": [
        "http_dos_df = pd.read_csv(\"http dos dataset.csv\")\n",
        "grasec_get_df = pd.read_csv(\"capture_http_get.pcap_Flow.csv\")\n",
        "grasec_post_df = pd.read_csv(\"capture_http_post.pcap_Flow.csv\")\n",
        "csic_df = pd.read_csv(\"csic_database.csv\")\n",
        "http_full_df = pd.read_csv(\"http full dataset.csv\")"
      ],
      "metadata": {
        "id": "nyUxEtC2dfeJ"
      },
      "execution_count": 2,
      "outputs": []
    },
    {
      "cell_type": "markdown",
      "source": [
        "3. Label Data"
      ],
      "metadata": {
        "id": "IGi2E7wVqaI0"
      }
    },
    {
      "cell_type": "code",
      "source": [
        "grasec_get_df['Label'] = 1\n",
        "grasec_post_df['Label'] = 1\n",
        "csic_df['Label'] = 0\n",
        "\n",
        "attacker_ips = ['192.168.1.64', '192.168.1.65', '192.168.1.66', '192.168.1.67', '192.168.1.68']\n",
        "http_dos_df['Label'] = http_dos_df['Source'].apply(lambda ip: 1 if ip in attacker_ips else 0)\n",
        "http_full_df['Label'] = http_full_df['Source'].apply(lambda ip: 1 if ip in attacker_ips else 0)"
      ],
      "metadata": {
        "id": "zWrXtXVPrltz"
      },
      "execution_count": 17,
      "outputs": []
    },
    {
      "cell_type": "code",
      "source": [
        "print(csic_df.columns.tolist())"
      ],
      "metadata": {
        "colab": {
          "base_uri": "https://localhost:8080/"
        },
        "id": "aWA_UXN92Ew9",
        "outputId": "7a74dbc9-c27c-4c91-9b9e-c332a87a0508"
      },
      "execution_count": 24,
      "outputs": [
        {
          "output_type": "stream",
          "name": "stdout",
          "text": [
            "['Unnamed: 0', 'Method', 'User-Agent', 'Pragma', 'Cache-Control', 'Accept', 'Accept-encoding', 'Accept-charset', 'language', 'host', 'cookie', 'content-type', 'connection', 'lenght', 'content', 'classification', 'URL', 'Label']\n"
          ]
        }
      ]
    },
    {
      "cell_type": "markdown",
      "source": [
        "4. Feature Engineering"
      ],
      "metadata": {
        "id": "uHp49LrjrpSp"
      }
    },
    {
      "cell_type": "code",
      "source": [
        "# Create consistent features across datasets\n",
        "http_dos_df['method'] = http_dos_df['Info'].str.extract(r'^(GET|POST)').fillna('RESPONSE')\n",
        "http_dos_df['length'] = http_dos_df['Length']\n",
        "\n",
        "\n",
        "# --- GRASEC GET/POST (flow-based, no HTTP Info) ---\n",
        "# Treat all as POST or GET respectively, or just label as GENERIC_POST / GENERIC_GET\n",
        "grasec_get_df['method'] = 'GET'\n",
        "grasec_get_df['length'] = grasec_get_df['Pkt Len Mean']\n",
        "\n",
        "grasec_post_df['method'] = 'POST'\n",
        "grasec_post_df['length'] = grasec_post_df['Pkt Len Mean']\n",
        "\n",
        "\n",
        "# --- CSIC (pre-parsed) ---\n",
        "csic_df['method'] = csic_df['Method'].fillna('RESPONSE')\n",
        "csic_df['length'] = csic_df['lenght'].str.extract('(\\d+)').fillna(0)\n",
        "\n",
        "\n",
        "# --- Combine and encode ---\n",
        "combined_df = pd.concat([\n",
        "    http_dos_df[['method', 'length', 'Label']],\n",
        "    grasec_get_df[['method', 'length', 'Label']],\n",
        "    grasec_post_df[['method', 'length', 'Label']],\n",
        "    csic_df[['method', 'length', 'Label']]\n",
        "], ignore_index=True).dropna()\n",
        "\n",
        "# Coerce to numeric, errors will be set to NaN, then fill with 0\n",
        "combined_df['length'] = pd.to_numeric(combined_df['length'], errors='coerce').fillna(0)\n",
        "\n",
        "le = LabelEncoder()\n",
        "combined_df['method'] = le.fit_transform(combined_df['method'])"
      ],
      "metadata": {
        "id": "pJ7NZW3D1rKa"
      },
      "execution_count": 29,
      "outputs": []
    },
    {
      "cell_type": "markdown",
      "source": [
        "5. Train/Test split"
      ],
      "metadata": {
        "id": "ZEg9r9UO2wfG"
      }
    },
    {
      "cell_type": "code",
      "source": [
        "X = combined_df[['method', 'length']]\n",
        "y = combined_df['Label']\n",
        "X_train, X_test, y_train, y_test = train_test_split(X, y, test_size=0.3, random_state=42)"
      ],
      "metadata": {
        "id": "G0aDlDXd2rIg"
      },
      "execution_count": 30,
      "outputs": []
    },
    {
      "cell_type": "markdown",
      "source": [
        "6. Model"
      ],
      "metadata": {
        "id": "Jpqtv_YH22UY"
      }
    },
    {
      "cell_type": "code",
      "source": [
        "rf = RandomForestClassifier(n_estimators=100, max_depth=15, min_samples_leaf=5, bootstrap=True, max_features='sqrt')\n",
        "rf.fit(X_train, y_train)\n",
        "y_pred = rf.predict(X_test)"
      ],
      "metadata": {
        "id": "ZS66-wBY23wP"
      },
      "execution_count": 31,
      "outputs": []
    },
    {
      "cell_type": "markdown",
      "source": [
        "7. Evaluation"
      ],
      "metadata": {
        "id": "e-_kyBe83UUg"
      }
    },
    {
      "cell_type": "code",
      "source": [
        "print(\"Classification Report:\\n\", classification_report(y_test, y_pred))"
      ],
      "metadata": {
        "colab": {
          "base_uri": "https://localhost:8080/"
        },
        "id": "GWv5K6fp263e",
        "outputId": "d734eead-43f8-486b-9bca-ec74a50add5e"
      },
      "execution_count": 32,
      "outputs": [
        {
          "output_type": "stream",
          "name": "stdout",
          "text": [
            "Classification Report:\n",
            "               precision    recall  f1-score   support\n",
            "\n",
            "           0       0.98      0.66      0.79     41204\n",
            "           1       0.93      1.00      0.96    197008\n",
            "\n",
            "    accuracy                           0.94    238212\n",
            "   macro avg       0.96      0.83      0.88    238212\n",
            "weighted avg       0.94      0.94      0.93    238212\n",
            "\n"
          ]
        }
      ]
    },
    {
      "cell_type": "markdown",
      "source": [
        "8. Confusion Matrix"
      ],
      "metadata": {
        "id": "8bJ_UG_x3jZ6"
      }
    },
    {
      "cell_type": "code",
      "source": [
        "plt.figure(figsize=(6,4))\n",
        "sns.heatmap(confusion_matrix(y_test, y_pred), annot=True, fmt='d', cmap='Blues', xticklabels=['Benign','Attack'], yticklabels=['Benign','Attack'])\n",
        "plt.title(\"Confusion Matrix\")\n",
        "plt.xlabel(\"Predicted\")\n",
        "plt.ylabel(\"Actual\")\n",
        "plt.show()\n"
      ],
      "metadata": {
        "colab": {
          "base_uri": "https://localhost:8080/",
          "height": 410
        },
        "id": "jNXAIYyy3ar_",
        "outputId": "12d2187a-e600-4435-cbb0-9c0dc97e4fe5"
      },
      "execution_count": 33,
      "outputs": [
        {
          "output_type": "display_data",
          "data": {
            "text/plain": [
              "<Figure size 600x400 with 2 Axes>"
            ],
            "image/png": "[encoded data removed]"
          },
          "metadata": {}
        }
      ]
    },
    {
      "cell_type": "code",
      "source": [],
      "metadata": {
        "id": "9uqJ1V9h3o_Q"
      },
      "execution_count": null,
      "outputs": []
    }
  ]
}